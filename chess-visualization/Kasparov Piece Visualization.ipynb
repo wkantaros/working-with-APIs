{
 "cells": [
  {
   "cell_type": "code",
   "execution_count": 28,
   "metadata": {},
   "outputs": [],
   "source": [
    "import chess.pgn\n",
    "pgn = open('GarryKasparov.pgn')\n",
    "# https://chess-db.com/public/pinfo.jsp?id=4100018"
   ]
  },
  {
   "cell_type": "code",
   "execution_count": 29,
   "metadata": {},
   "outputs": [],
   "source": [
    "import numpy as np\n",
    "def makeRows(num):\n",
    "    pieceposition = []\n",
    "    for i in range(num):\n",
    "        pieceposition.append(np.zeros((8,8), dtype=int))\n",
    "    return pieceposition\n",
    "db = dict(\n",
    "    p=makeRows(50),\n",
    "    r=makeRows(50),\n",
    "    n=makeRows(50),\n",
    "    b=makeRows(50),\n",
    "    q=makeRows(50),\n",
    "    k=makeRows(50)\n",
    "    )"
   ]
  },
  {
   "cell_type": "code",
   "execution_count": 30,
   "metadata": {},
   "outputs": [],
   "source": [
    "def getGame():\n",
    "    game = chess.pgn.read_game(pgn)\n",
    "    if game == None:\n",
    "        return\n",
    "    board = game.board()\n",
    "    boardlist = []\n",
    "    for move in game.main_line():\n",
    "        board.push(move)\n",
    "        bstring = board.__str__().lower().replace('\\n','').replace(' ', '')\n",
    "        boardlist.append(bstring)\n",
    "    return boardlist"
   ]
  },
  {
   "cell_type": "code",
   "execution_count": 31,
   "metadata": {},
   "outputs": [],
   "source": [
    "def appendData(pieceType):\n",
    "    move = 0\n",
    "    for position in positions:\n",
    "        if move >= 50:\n",
    "            break\n",
    "        instance = []\n",
    "        for i in range(64):\n",
    "            s = position\n",
    "            if s[i:i+1] == pieceType:\n",
    "                instance.append(i)\n",
    "        for value in instance:\n",
    "            file = 7 - (value // 8)\n",
    "            rank = value % 8\n",
    "            db[pieceType][move][file][rank] += 1\n",
    "        move += 1\n",
    "    return db"
   ]
  },
  {
   "cell_type": "code",
   "execution_count": 32,
   "metadata": {
    "scrolled": true
   },
   "outputs": [],
   "source": [
    "%%capture\n",
    "for i in range(1854):\n",
    "    positions = getGame()\n",
    "    appendData('p')\n",
    "    appendData('r')\n",
    "    appendData('n')\n",
    "    appendData('b')\n",
    "    appendData('k')\n",
    "    appendData('q')\n",
    "    chess.pgn.read_game(pgn)"
   ]
  },
  {
   "cell_type": "code",
   "execution_count": 33,
   "metadata": {},
   "outputs": [],
   "source": [
    "import plotly.plotly as py\n",
    "import plotly.graph_objs as go"
   ]
  },
  {
   "cell_type": "code",
   "execution_count": 65,
   "metadata": {},
   "outputs": [],
   "source": [
    "from plotly.tools import FigureFactory as FF\n",
    "\n",
    "def makeGraph(piecename):\n",
    "    piece = piecename[0].lower()\n",
    "    if (piecename is 'Knight'):\n",
    "        piece = piecename[1].lower()\n",
    "    cscale = [  [0, 'rgb(256, 256, 256)'],[0.05, 'rgb(256, 256, 256)'],\n",
    "                [0.05, 'rgb(160, 160, 160)'],[0.2, 'rgb(160, 160, 160)'],\n",
    "                [0.2, 'rgb(140, 140, 140)'],[0.3, 'rgb(140, 140, 140)'],\n",
    "                [0.3, 'rgb(120, 120, 120)'],[0.4, 'rgb(120, 120, 120)'],\n",
    "                [0.4, 'rgb(100, 100, 100)'],[0.5, 'rgb(100, 100, 100)'],\n",
    "                [0.5, 'rgb(80, 80, 80)'],[0.6, 'rgb(80, 80, 80)'],\n",
    "                [0.6, 'rgb(60, 60, 60)'],[0.7, 'rgb(60, 60, 60)'],\n",
    "                [0.7, 'rgb(40, 40, 40)'],[0.8, 'rgb(40, 40, 40)'],\n",
    "                [0.8, 'rgb(20, 20, 20)'],[0.85, 'rgb(20, 20, 20)'],\n",
    "                [0.85, 'rgb(0, 0, 0)'],[1.0, 'rgb(0, 0, 0)']]\n",
    "\n",
    "    trace1 = go.Heatmap(z=db[piece][0],\n",
    "                       x=['a','b','c','d','e','f','g','h'],\n",
    "                       y=[1,2,3,4,5,6,7,8],\n",
    "                       colorscale = cscale,\n",
    "                        xgap=1,\n",
    "                        ygap=1)\n",
    "\n",
    "    trace5 = go.Heatmap(z=db[piece][4],\n",
    "                       x=['a','b','c','d','e','f','g','h'],\n",
    "                       y=[1,2,3,4,5,6,7,8],\n",
    "                       colorscale = cscale,\n",
    "                        xgap=1,\n",
    "                        ygap=1)\n",
    "    \n",
    "    trace10 = go.Heatmap(z=db[piece][9],\n",
    "                       x=['a','b','c','d','e','f','g','h'],\n",
    "                       y=[1,2,3,4,5,6,7,8],\n",
    "                       colorscale = cscale,\n",
    "                        xgap=1,\n",
    "                        ygap=1)\n",
    "\n",
    "    trace15 = go.Heatmap(z=db[piece][14],\n",
    "                       x=['a','b','c','d','e','f','g','h'],\n",
    "                       y=[1,2,3,4,5,6,7,8],\n",
    "                       colorscale = cscale,\n",
    "                        xgap=1,\n",
    "                        ygap=1)\n",
    "    \n",
    "    trace20 = go.Heatmap(z=db[piece][19],\n",
    "                       x=['a','b','c','d','e','f','g','h'],\n",
    "                       y=[1,2,3,4,5,6,7,8],\n",
    "                       colorscale = cscale,\n",
    "                        xgap=1,\n",
    "                        ygap=1)\n",
    "\n",
    "    trace25 = go.Heatmap(z=db[piece][24],\n",
    "                       x=['a','b','c','d','e','f','g','h'],\n",
    "                       y=[1,2,3,4,5,6,7,8],\n",
    "                       colorscale = cscale,\n",
    "                        xgap=1,\n",
    "                        ygap=1)\n",
    "    \n",
    "    trace30 = go.Heatmap(z=db[piece][29],\n",
    "                       x=['a','b','c','d','e','f','g','h'],\n",
    "                       y=[1,2,3,4,5,6,7,8],\n",
    "                       colorscale = cscale,\n",
    "                        xgap=1,\n",
    "                        ygap=1)\n",
    "    \n",
    "    trace35 = go.Heatmap(z=db[piece][34],\n",
    "                       x=['a','b','c','d','e','f','g','h'],\n",
    "                       y=[1,2,3,4,5,6,7,8],\n",
    "                       colorscale = cscale,\n",
    "                        xgap=1,\n",
    "                        ygap=1)\n",
    "\n",
    "    trace40 = go.Heatmap(z=db[piece][39],\n",
    "                       x=['a','b','c','d','e','f','g','h'],\n",
    "                       y=[1,2,3,4,5,6,7,8],\n",
    "                       colorscale = cscale,\n",
    "                        xgap=1,\n",
    "                        ygap=1)\n",
    "    \n",
    "    trace45 = go.Heatmap(z=db[piece][44],\n",
    "                       x=['a','b','c','d','e','f','g','h'],\n",
    "                       y=[1,2,3,4,5,6,7,8],\n",
    "                       colorscale = cscale,\n",
    "                        xgap=1,\n",
    "                        ygap=1)\n",
    "\n",
    "    trace50 = go.Heatmap(z=db[piece][49],\n",
    "                       x=['a','b','c','d','e','f','g','h'],\n",
    "                       y=[1,2,3,4,5,6,7,8],\n",
    "                       colorscale = cscale,\n",
    "                        xgap=1,\n",
    "                        ygap=1)\n",
    "    \n",
    "    data=[trace1, trace5, trace10, trace15, trace20, trace25, trace30, trace35, trace40, trace45, trace50]\n",
    "\n",
    "    updatemenus = list([\n",
    "        dict(active=-1,\n",
    "             buttons=list([   \n",
    "                dict(label = 'Move 1',\n",
    "                     method = 'update',\n",
    "                     args = [{'visible': [True, False, False, False, False, False, False, False, False, False, False]}]),\n",
    "\n",
    "                dict(label = 'Move 5',\n",
    "                     method = 'update',\n",
    "                     args = [{'visible': [False, True, False, False, False, False, False, False, False, False, False]}]),\n",
    "\n",
    "                dict(label = 'Move 10',\n",
    "                     method = 'update',\n",
    "                     args = [{'visible': [False, False, True, False, False, False, False, False, False, False, False]}]),\n",
    "\n",
    "                dict(label = 'Move 15',\n",
    "                     method = 'update',\n",
    "                     args = [{'visible': [False, False, False, True, False, False, False, False, False, False, False]}]),\n",
    "\n",
    "                dict(label = 'Move 20',\n",
    "                     method = 'update',\n",
    "                     args = [{'visible': [False, False, False, False, True, False, False, False, False, False, False]}]),\n",
    "\n",
    "                dict(label = 'Move 25',\n",
    "                     method = 'update',\n",
    "                     args = [{'visible': [False, False, False, False, False, True, False, False, False, False, False]}]),\n",
    "\n",
    "                dict(label = 'Move 30',\n",
    "                     method = 'update',\n",
    "                     args = [{'visible': [False, False, False, False, False, False, True, False, False, False, False]}]),\n",
    "\n",
    "                dict(label = 'Move 35',\n",
    "                     method = 'update',\n",
    "                     args = [{'visible': [False, False, False, False, False, False, False, True, False, False, False]}]),\n",
    "                \n",
    "                dict(label = 'Move 40',\n",
    "                     method = 'update',\n",
    "                     args = [{'visible': [False, False, False, False, False, False, False, False, True, False, False]}]),\n",
    "                \n",
    "                dict(label = 'Move 45',\n",
    "                     method = 'update',\n",
    "                     args = [{'visible': [False, False, False, False, False, False, False, False, False, True, False]}]),\n",
    "                 \n",
    "                dict(label = 'Move 50',\n",
    "                     method = 'update',\n",
    "                     args = [{'visible': [False, False, False, False, False, False, False, False, False, False, True]}])\n",
    "            ]),\n",
    "        )\n",
    "    ])\n",
    "\n",
    "    layout = dict(\n",
    "        title=piecename,\n",
    "        showlegend = False,\n",
    "        width = 500, height = 500,\n",
    "        updatemenus=updatemenus\n",
    "        )\n",
    "\n",
    "    figure=dict(data=data, layout=layout)\n",
    "\n",
    "    return(py.iplot(figure, filename='labelled-heatmap'))"
   ]
  },
  {
   "cell_type": "code",
   "execution_count": 69,
   "metadata": {},
   "outputs": [
    {
     "name": "stdout",
     "output_type": "stream",
     "text": [
      "The draw time for this plot will be slow for clients without much RAM.\n"
     ]
    },
    {
     "name": "stderr",
     "output_type": "stream",
     "text": [
      "/Users/wkantaros/miniconda3/lib/python3.6/site-packages/plotly/api/v1/clientresp.py:40: UserWarning:\n",
      "\n",
      "Estimated Draw Time Slow\n",
      "\n"
     ]
    },
    {
     "data": {
      "text/html": [
       "<iframe id=\"igraph\" scrolling=\"no\" style=\"border:none;\" seamless=\"seamless\" src=\"https://plot.ly/~wkantaros/22.embed\" height=\"500px\" width=\"500px\"></iframe>"
      ],
      "text/plain": [
       "<plotly.tools.PlotlyDisplay object>"
      ]
     },
     "execution_count": 69,
     "metadata": {},
     "output_type": "execute_result"
    }
   ],
   "source": [
    "makeGraph('King')"
   ]
  },
  {
   "cell_type": "code",
   "execution_count": 71,
   "metadata": {},
   "outputs": [
    {
     "data": {
      "text/html": [
       "<iframe src=\"https://giphy.com/embed/8mvNELa0cCadyb9VIh\" width=\"480\" height=\"480\" frameBorder=\"0\" class=\"giphy-embed\" allowFullScreen></iframe><p><a href=\"https://giphy.com/gifs/8mvNELa0cCadyb9VIh\">via GIPHY</a></p>"
      ],
      "text/plain": [
       "<IPython.core.display.HTML object>"
      ]
     },
     "metadata": {},
     "output_type": "display_data"
    }
   ],
   "source": [
    "%%html\n",
    "<iframe src=\"https://giphy.com/embed/8mvNELa0cCadyb9VIh\" width=\"480\" height=\"480\" frameBorder=\"0\" class=\"giphy-embed\" allowFullScreen></iframe><p><a href=\"https://giphy.com/gifs/8mvNELa0cCadyb9VIh\">via GIPHY</a></p>"
   ]
  },
  {
   "cell_type": "code",
   "execution_count": null,
   "metadata": {},
   "outputs": [],
   "source": []
  },
  {
   "cell_type": "code",
   "execution_count": null,
   "metadata": {},
   "outputs": [],
   "source": []
  }
 ],
 "metadata": {
  "kernelspec": {
   "display_name": "Python 3",
   "language": "python",
   "name": "python3"
  },
  "language_info": {
   "codemirror_mode": {
    "name": "ipython",
    "version": 3
   },
   "file_extension": ".py",
   "mimetype": "text/x-python",
   "name": "python",
   "nbconvert_exporter": "python",
   "pygments_lexer": "ipython3",
   "version": "3.6.5"
  }
 },
 "nbformat": 4,
 "nbformat_minor": 2
}
